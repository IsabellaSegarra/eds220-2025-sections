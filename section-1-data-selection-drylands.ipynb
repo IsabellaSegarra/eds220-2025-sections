{
 "cells": [
  {
   "cell_type": "markdown",
   "id": "af7c9ebc-3230-4f03-8e35-959f0da0838c",
   "metadata": {},
   "source": [
    "# Prey species in the California drylands\n",
    "\n",
    "group members: "
   ]
  },
  {
   "cell_type": "code",
   "execution_count": null,
   "id": "8e793cb5-f387-4be9-bd60-f405be309a69",
   "metadata": {},
   "outputs": [],
   "source": []
  }
 ],
 "metadata": {
  "kernelspec": {
   "display_name": "EDS220",
   "language": "python",
   "name": "eds220-env"
  },
  "language_info": {
   "codemirror_mode": {
    "name": "ipython",
    "version": 3
   },
   "file_extension": ".py",
   "mimetype": "text/x-python",
   "name": "python",
   "nbconvert_exporter": "python",
   "pygments_lexer": "ipython3",
   "version": "3.11.4"
  }
 },
 "nbformat": 4,
 "nbformat_minor": 5
}
