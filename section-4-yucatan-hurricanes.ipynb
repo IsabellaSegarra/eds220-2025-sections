{
 "cells": [
  {
   "cell_type": "markdown",
   "id": "d980a45e",
   "metadata": {},
   "source": [
    "# Yucatan Peninsula Hurricanes\n"
   ]
  },
  {
   "cell_type": "code",
   "execution_count": 2,
   "id": "9b91c2a2-42cb-4d7b-b1ed-fb8e9c8fd9b6",
   "metadata": {
    "tags": []
   },
   "outputs": [],
   "source": [
    "import pandas as pd"
   ]
  },
  {
   "cell_type": "code",
   "execution_count": 3,
   "id": "bdc2f9b6",
   "metadata": {
    "tags": [],
    "vscode": {
     "languageId": "plaintext"
    }
   },
   "outputs": [],
   "source": [
    "# Load data\n",
    "URL = 'https://pasta.lternet.edu/package/data/eml/knb-lter-hfr/71/23/ab0fe2bf4f3ad850371ccb9c69d78469'\n",
    "df = pd.read_csv(URL)"
   ]
  },
  {
   "cell_type": "code",
   "execution_count": 4,
   "id": "98cc7097-b4b5-4009-8f61-d36d3ec672e8",
   "metadata": {
    "tags": []
   },
   "outputs": [
    {
     "data": {
      "text/html": [
       "<div>\n",
       "<style scoped>\n",
       "    .dataframe tbody tr th:only-of-type {\n",
       "        vertical-align: middle;\n",
       "    }\n",
       "\n",
       "    .dataframe tbody tr th {\n",
       "        vertical-align: top;\n",
       "    }\n",
       "\n",
       "    .dataframe thead th {\n",
       "        text-align: right;\n",
       "    }\n",
       "</style>\n",
       "<table border=\"1\" class=\"dataframe\">\n",
       "  <thead>\n",
       "    <tr style=\"text-align: right;\">\n",
       "      <th></th>\n",
       "      <th>code</th>\n",
       "      <th>start.date</th>\n",
       "      <th>end.date</th>\n",
       "      <th>number</th>\n",
       "      <th>name</th>\n",
       "      <th>ss</th>\n",
       "      <th>track</th>\n",
       "      <th>rf.max</th>\n",
       "    </tr>\n",
       "  </thead>\n",
       "  <tbody>\n",
       "    <tr>\n",
       "      <th>0</th>\n",
       "      <td>Y1852</td>\n",
       "      <td>1852-10-07</td>\n",
       "      <td>1852-10-08</td>\n",
       "      <td>5</td>\n",
       "      <td>NaN</td>\n",
       "      <td>2</td>\n",
       "      <td>O</td>\n",
       "      <td>F1</td>\n",
       "    </tr>\n",
       "    <tr>\n",
       "      <th>1</th>\n",
       "      <td>Y1857</td>\n",
       "      <td>1857-09-28</td>\n",
       "      <td>1857-09-28</td>\n",
       "      <td>4</td>\n",
       "      <td>NaN</td>\n",
       "      <td>2</td>\n",
       "      <td>N</td>\n",
       "      <td>F1</td>\n",
       "    </tr>\n",
       "    <tr>\n",
       "      <th>2</th>\n",
       "      <td>Y1861</td>\n",
       "      <td>1861-08-17</td>\n",
       "      <td>1861-08-17</td>\n",
       "      <td>2</td>\n",
       "      <td>NaN</td>\n",
       "      <td>1</td>\n",
       "      <td>O</td>\n",
       "      <td>Nd</td>\n",
       "    </tr>\n",
       "    <tr>\n",
       "      <th>3</th>\n",
       "      <td>Y1864</td>\n",
       "      <td>1864-08-31</td>\n",
       "      <td>1864-08-31</td>\n",
       "      <td>3</td>\n",
       "      <td>NaN</td>\n",
       "      <td>1</td>\n",
       "      <td>S</td>\n",
       "      <td>F1</td>\n",
       "    </tr>\n",
       "    <tr>\n",
       "      <th>4</th>\n",
       "      <td>Y1865</td>\n",
       "      <td>1865-09-11</td>\n",
       "      <td>1865-09-11</td>\n",
       "      <td>4</td>\n",
       "      <td>NaN</td>\n",
       "      <td>2</td>\n",
       "      <td>O</td>\n",
       "      <td>F1</td>\n",
       "    </tr>\n",
       "    <tr>\n",
       "      <th>...</th>\n",
       "      <td>...</td>\n",
       "      <td>...</td>\n",
       "      <td>...</td>\n",
       "      <td>...</td>\n",
       "      <td>...</td>\n",
       "      <td>...</td>\n",
       "      <td>...</td>\n",
       "      <td>...</td>\n",
       "    </tr>\n",
       "    <tr>\n",
       "      <th>100</th>\n",
       "      <td>Y1995a</td>\n",
       "      <td>1995-10-01</td>\n",
       "      <td>1995-10-03</td>\n",
       "      <td>15</td>\n",
       "      <td>Opal</td>\n",
       "      <td>1</td>\n",
       "      <td>N*</td>\n",
       "      <td>F0</td>\n",
       "    </tr>\n",
       "    <tr>\n",
       "      <th>101</th>\n",
       "      <td>Y1995b</td>\n",
       "      <td>1995-10-10</td>\n",
       "      <td>1995-10-16</td>\n",
       "      <td>17</td>\n",
       "      <td>Roxanne</td>\n",
       "      <td>3</td>\n",
       "      <td>N</td>\n",
       "      <td>F2</td>\n",
       "    </tr>\n",
       "    <tr>\n",
       "      <th>102</th>\n",
       "      <td>Y1996</td>\n",
       "      <td>1996-08-20</td>\n",
       "      <td>1996-08-20</td>\n",
       "      <td>4</td>\n",
       "      <td>Dolly</td>\n",
       "      <td>1</td>\n",
       "      <td>N</td>\n",
       "      <td>F1</td>\n",
       "    </tr>\n",
       "    <tr>\n",
       "      <th>103</th>\n",
       "      <td>Y1998</td>\n",
       "      <td>1998-10-27</td>\n",
       "      <td>1998-10-28</td>\n",
       "      <td>13</td>\n",
       "      <td>Mitch</td>\n",
       "      <td>5</td>\n",
       "      <td>S</td>\n",
       "      <td>F1</td>\n",
       "    </tr>\n",
       "    <tr>\n",
       "      <th>104</th>\n",
       "      <td>Y2000</td>\n",
       "      <td>2000-10-01</td>\n",
       "      <td>2000-10-03</td>\n",
       "      <td>15</td>\n",
       "      <td>Keith</td>\n",
       "      <td>4</td>\n",
       "      <td>S</td>\n",
       "      <td>F2</td>\n",
       "    </tr>\n",
       "  </tbody>\n",
       "</table>\n",
       "<p>105 rows × 8 columns</p>\n",
       "</div>"
      ],
      "text/plain": [
       "       code  start.date    end.date  number     name  ss track rf.max\n",
       "0     Y1852  1852-10-07  1852-10-08       5      NaN   2     O     F1\n",
       "1     Y1857  1857-09-28  1857-09-28       4      NaN   2     N     F1\n",
       "2     Y1861  1861-08-17  1861-08-17       2      NaN   1     O     Nd\n",
       "3     Y1864  1864-08-31  1864-08-31       3      NaN   1     S     F1\n",
       "4     Y1865  1865-09-11  1865-09-11       4      NaN   2     O     F1\n",
       "..      ...         ...         ...     ...      ...  ..   ...    ...\n",
       "100  Y1995a  1995-10-01  1995-10-03      15     Opal   1    N*     F0\n",
       "101  Y1995b  1995-10-10  1995-10-16      17  Roxanne   3     N     F2\n",
       "102   Y1996  1996-08-20  1996-08-20       4    Dolly   1     N     F1\n",
       "103   Y1998  1998-10-27  1998-10-28      13    Mitch   5     S     F1\n",
       "104   Y2000  2000-10-01  2000-10-03      15    Keith   4     S     F2\n",
       "\n",
       "[105 rows x 8 columns]"
      ]
     },
     "execution_count": 4,
     "metadata": {},
     "output_type": "execute_result"
    }
   ],
   "source": [
    "df"
   ]
  },
  {
   "cell_type": "code",
   "execution_count": 5,
   "id": "cf6efc89-b6ac-40a1-9ff8-b3fd1962cd83",
   "metadata": {
    "tags": []
   },
   "outputs": [
    {
     "name": "stdout",
     "output_type": "stream",
     "text": [
      "<class 'pandas.core.frame.DataFrame'>\n",
      "RangeIndex: 105 entries, 0 to 104\n",
      "Data columns (total 8 columns):\n",
      " #   Column      Non-Null Count  Dtype \n",
      "---  ------      --------------  ----- \n",
      " 0   code        105 non-null    object\n",
      " 1   start.date  105 non-null    object\n",
      " 2   end.date    105 non-null    object\n",
      " 3   number      105 non-null    int64 \n",
      " 4   name        33 non-null     object\n",
      " 5   ss          105 non-null    int64 \n",
      " 6   track       105 non-null    object\n",
      " 7   rf.max      105 non-null    object\n",
      "dtypes: int64(2), object(6)\n",
      "memory usage: 6.7+ KB\n"
     ]
    }
   ],
   "source": [
    "df.info()"
   ]
  },
  {
   "cell_type": "markdown",
   "id": "9899f9c4-a402-40e5-9bb7-b5fec673b075",
   "metadata": {},
   "source": [
    "# Data Wrangling"
   ]
  },
  {
   "cell_type": "code",
   "execution_count": 6,
   "id": "6c43ae4b-537e-4021-b916-e7a0cc8b957b",
   "metadata": {
    "tags": []
   },
   "outputs": [],
   "source": [
    "# Change start date to datetime\n",
    "df['start.date'] = pd.to_datetime(df['start.date'])"
   ]
  },
  {
   "cell_type": "code",
   "execution_count": 7,
   "id": "e3e151ee-427b-45c3-9754-6338c8a2274b",
   "metadata": {
    "tags": []
   },
   "outputs": [],
   "source": [
    "# Change end date to datetime\n",
    "df['end.date'] = pd.to_datetime(df['end.date'])"
   ]
  },
  {
   "cell_type": "code",
   "execution_count": 8,
   "id": "c9e49ca8-ca0f-4984-bbb6-304839d69590",
   "metadata": {
    "tags": []
   },
   "outputs": [
    {
     "name": "stdout",
     "output_type": "stream",
     "text": [
      "<class 'pandas.core.frame.DataFrame'>\n",
      "RangeIndex: 105 entries, 0 to 104\n",
      "Data columns (total 8 columns):\n",
      " #   Column      Non-Null Count  Dtype         \n",
      "---  ------      --------------  -----         \n",
      " 0   code        105 non-null    object        \n",
      " 1   start.date  105 non-null    datetime64[ns]\n",
      " 2   end.date    105 non-null    datetime64[ns]\n",
      " 3   number      105 non-null    int64         \n",
      " 4   name        33 non-null     object        \n",
      " 5   ss          105 non-null    int64         \n",
      " 6   track       105 non-null    object        \n",
      " 7   rf.max      105 non-null    object        \n",
      "dtypes: datetime64[ns](2), int64(2), object(4)\n",
      "memory usage: 6.7+ KB\n"
     ]
    }
   ],
   "source": [
    "# Check if datetime updated \n",
    "df.info()"
   ]
  },
  {
   "cell_type": "code",
   "execution_count": null,
   "id": "5ce32172-24a0-47b2-ae3f-0edeb1772b70",
   "metadata": {},
   "outputs": [],
   "source": [
    "# Filter for Hurricanes Category >5 \n",
    "df['ss']"
   ]
  },
  {
   "cell_type": "markdown",
   "id": "4dc44fe6-239d-474f-8b0b-fc6722aa2225",
   "metadata": {},
   "source": [
    "# Visualize Saffir-Simpson categories across time"
   ]
  },
  {
   "cell_type": "code",
   "execution_count": 11,
   "id": "afb8bc1d-546e-4bc4-9ee7-9da38a94f9e5",
   "metadata": {
    "tags": []
   },
   "outputs": [],
   "source": [
    "import matplotlib.pyplot as plt"
   ]
  },
  {
   "cell_type": "code",
   "execution_count": 27,
   "id": "ddd91fcf-02e6-48f3-8729-42d94ade8cf9",
   "metadata": {
    "tags": []
   },
   "outputs": [
    {
     "data": {
      "text/plain": [
       "<Figure size 640x480 with 0 Axes>"
      ]
     },
     "metadata": {},
     "output_type": "display_data"
    },
    {
     "data": {
      "image/png": "[encoded data removed]",
      "text/plain": [
       "<Figure size 1200x500 with 1 Axes>"
      ]
     },
     "metadata": {},
     "output_type": "display_data"
    }
   ],
   "source": [
    "# Initialize figure\n",
    "fig = plt.figure()\n",
    "\n",
    "# Update size of plot\n",
    "fig, ax = plt.subplots(figsize = (12,5))\n",
    "\n",
    "# Scatter plot\n",
    "plt.scatter(x = df['start.date'], \n",
    "            y = df['ss'], \n",
    "           c = '#3492eb')\n",
    "\n",
    "# Update tick labels \n",
    "plt.yticks([1,2,3,4,5])\n",
    "\n",
    "# Add lables\n",
    "plt.xlabel('Start Date')\n",
    "plt.ylabel('Saffir-Simpson Hurricane Categories')\n",
    "\n",
    "# Add plot title \n",
    "plt.title('Yucatan Peninsula Hurricanes')\n",
    "\n",
    "plt.show()"
   ]
  },
  {
   "cell_type": "code",
   "execution_count": null,
   "id": "6bd2063d-aaef-44d8-933b-78549a3c16ab",
   "metadata": {},
   "outputs": [],
   "source": []
  }
 ],
 "metadata": {
  "kernelspec": {
   "display_name": "EDS220",
   "language": "python",
   "name": "eds220-env"
  },
  "language_info": {
   "codemirror_mode": {
    "name": "ipython",
    "version": 3
   },
   "file_extension": ".py",
   "mimetype": "text/x-python",
   "name": "python",
   "nbconvert_exporter": "python",
   "pygments_lexer": "ipython3",
   "version": "3.11.4"
  }
 },
 "nbformat": 4,
 "nbformat_minor": 5
}
