{
 "cells": [
  {
   "cell_type": "markdown",
   "id": "d980a45e",
   "metadata": {},
   "source": [
    "# Yucatan Peninsula Hurricanes\n"
   ]
  },
  {
   "cell_type": "markdown",
   "id": "a1718fc8",
   "metadata": {},
   "source": []
  },
  {
   "cell_type": "code",
   "execution_count": null,
   "id": "bdc2f9b6",
   "metadata": {
    "vscode": {
     "languageId": "plaintext"
    }
   },
   "outputs": [],
   "source": [
    "# Load data\n",
    "URL = 'https://pasta.lternet.edu/package/data/eml/knb-lter-hfr/71/23/ab0fe2bf4f3ad850371ccb9c69d78469'\n",
    "df = read_csv(URL)"
   ]
  }
 ],
 "metadata": {
  "language_info": {
   "name": "python"
  }
 },
 "nbformat": 4,
 "nbformat_minor": 5
}
