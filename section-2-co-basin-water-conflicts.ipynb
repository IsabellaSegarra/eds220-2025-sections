{
 "cells": [
  {
   "cell_type": "markdown",
   "id": "ff76d5b1-546f-4318-9d5b-0076620d215f",
   "metadata": {},
   "source": [
    "# Water conflicts in the Colorado River Basin"
   ]
  },
  {
   "cell_type": "markdown",
   "id": "d8870fb0-73e6-4999-aa35-3ed3ad42f5a1",
   "metadata": {},
   "source": [
    "## 1. Archive Exploration"
   ]
  },
  {
   "cell_type": "markdown",
   "id": "595ecd72-d9f3-4c06-8bb9-43ce1823a595",
   "metadata": {},
   "source": [
    "## 2. Data Loading"
   ]
  },
  {
   "cell_type": "code",
   "execution_count": null,
   "id": "ffeded3d-c9e8-4fde-91a5-8bf2695efda4",
   "metadata": {},
   "outputs": [],
   "source": []
  }
 ],
 "metadata": {
  "kernelspec": {
   "display_name": "EDS220",
   "language": "python",
   "name": "eds220-env"
  },
  "language_info": {
   "codemirror_mode": {
    "name": "ipython",
    "version": 3
   },
   "file_extension": ".py",
   "mimetype": "text/x-python",
   "name": "python",
   "nbconvert_exporter": "python",
   "pygments_lexer": "ipython3",
   "version": "3.11.4"
  }
 },
 "nbformat": 4,
 "nbformat_minor": 5
}
