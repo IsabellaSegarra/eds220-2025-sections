{
 "cells": [
  {
   "cell_type": "markdown",
   "id": "bb8e9a84-0be9-4b2c-9037-9e3abeb16e30",
   "metadata": {},
   "source": [
    "# Snowshoe hares at Bonanza Creek Experimental Forest\n",
    "\n",
    "Week 3 Discussion"
   ]
  },
  {
   "cell_type": "markdown",
   "id": "8b7f3e8e-36bf-4b5c-95fb-ad8dcdd57da2",
   "metadata": {},
   "source": [
    "## A little about the data\n",
    "\n",
    "This dataset is from the Environmental Data Initiative from the study *Snowshoe hare physical data in Bonanza Creek Experimental Forest: 1999-Present* looking at snowshow hares (*Lepus americanus*) looking at capture-recapture\n",
    "\n",
    "Kielland, K., F.S. Chapin, R.W. Ruess, and Bonanza Creek LTER. 2017. Snowshoe hare physical data in Bonanza Creek Experimental Forest: 1999-Present ver 22. Environmental Data Initiative. https://doi.org/10.6073/pasta/03dce4856d79b91557d8e6ce2cbcdc14 (Accessed 2025-10-17)."
   ]
  },
  {
   "cell_type": "markdown",
   "id": "a7adc370-a39b-4433-83ff-5c0ca4461b0d",
   "metadata": {},
   "source": [
    "# 2. Adding an image"
   ]
  },
  {
   "cell_type": "markdown",
   "id": "fc3809ad-b4e4-4474-94a5-077f981d0112",
   "metadata": {
    "tags": []
   },
   "source": [
    "![image description](https://upload.wikimedia.org/wikipedia/commons/thumb/8/8a/SNOWSHOE_HARE_%28Lepus_americanus%29_%285-28-2015%29_quoddy_head%2C_washington_co%2C_maine_-01_%2818988734889%29.jpg/1452px-SNOWSHOE_HARE_%28Lepus_americanus%29_%285-28-2015%29_quoddy_head%2C_washington_co%2C_maine_-01_%2818988734889%29.jpg?20170313021652)"
   ]
  },
  {
   "cell_type": "markdown",
   "id": "40cb7b53-7b8e-4ff7-9223-2ed57c5b33f6",
   "metadata": {},
   "source": [
    "# 3. Data loading and preliminary exploration"
   ]
  },
  {
   "cell_type": "code",
   "execution_count": 3,
   "id": "f14c15d0-45f1-4d81-86bd-56a1f93878db",
   "metadata": {
    "tags": []
   },
   "outputs": [],
   "source": [
    "import pandas as pd \n",
    "\n",
    "hares = pd.read_csv('https://pasta.lternet.edu/package/data/eml/knb-lter-bnz/55/22/f01f5d71be949b8c700b6ecd1c42c701') "
   ]
  },
  {
   "cell_type": "code",
   "execution_count": 5,
   "id": "58ec0462-706b-4430-94c6-df11217cc36a",
   "metadata": {
    "tags": []
   },
   "outputs": [
    {
     "data": {
      "text/html": [
       "<div>\n",
       "<style scoped>\n",
       "    .dataframe tbody tr th:only-of-type {\n",
       "        vertical-align: middle;\n",
       "    }\n",
       "\n",
       "    .dataframe tbody tr th {\n",
       "        vertical-align: top;\n",
       "    }\n",
       "\n",
       "    .dataframe thead th {\n",
       "        text-align: right;\n",
       "    }\n",
       "</style>\n",
       "<table border=\"1\" class=\"dataframe\">\n",
       "  <thead>\n",
       "    <tr style=\"text-align: right;\">\n",
       "      <th></th>\n",
       "      <th>date</th>\n",
       "      <th>time</th>\n",
       "      <th>grid</th>\n",
       "      <th>trap</th>\n",
       "      <th>l_ear</th>\n",
       "      <th>r_ear</th>\n",
       "      <th>sex</th>\n",
       "      <th>age</th>\n",
       "      <th>weight</th>\n",
       "      <th>hindft</th>\n",
       "      <th>notes</th>\n",
       "      <th>b_key</th>\n",
       "      <th>session_id</th>\n",
       "      <th>study</th>\n",
       "    </tr>\n",
       "  </thead>\n",
       "  <tbody>\n",
       "    <tr>\n",
       "      <th>0</th>\n",
       "      <td>11/26/1998</td>\n",
       "      <td>NaN</td>\n",
       "      <td>bonrip</td>\n",
       "      <td>1A</td>\n",
       "      <td>414D096A08</td>\n",
       "      <td>NaN</td>\n",
       "      <td>NaN</td>\n",
       "      <td>NaN</td>\n",
       "      <td>1370.0</td>\n",
       "      <td>160.0</td>\n",
       "      <td>NaN</td>\n",
       "      <td>917.0</td>\n",
       "      <td>51</td>\n",
       "      <td>Population</td>\n",
       "    </tr>\n",
       "    <tr>\n",
       "      <th>1</th>\n",
       "      <td>11/26/1998</td>\n",
       "      <td>NaN</td>\n",
       "      <td>bonrip</td>\n",
       "      <td>2C</td>\n",
       "      <td>414D320671</td>\n",
       "      <td>NaN</td>\n",
       "      <td>M</td>\n",
       "      <td>NaN</td>\n",
       "      <td>1430.0</td>\n",
       "      <td>NaN</td>\n",
       "      <td>NaN</td>\n",
       "      <td>936.0</td>\n",
       "      <td>51</td>\n",
       "      <td>Population</td>\n",
       "    </tr>\n",
       "    <tr>\n",
       "      <th>2</th>\n",
       "      <td>11/26/1998</td>\n",
       "      <td>NaN</td>\n",
       "      <td>bonrip</td>\n",
       "      <td>2D</td>\n",
       "      <td>414D103E3A</td>\n",
       "      <td>NaN</td>\n",
       "      <td>M</td>\n",
       "      <td>NaN</td>\n",
       "      <td>1430.0</td>\n",
       "      <td>NaN</td>\n",
       "      <td>NaN</td>\n",
       "      <td>921.0</td>\n",
       "      <td>51</td>\n",
       "      <td>Population</td>\n",
       "    </tr>\n",
       "    <tr>\n",
       "      <th>3</th>\n",
       "      <td>11/26/1998</td>\n",
       "      <td>NaN</td>\n",
       "      <td>bonrip</td>\n",
       "      <td>2E</td>\n",
       "      <td>414D262D43</td>\n",
       "      <td>NaN</td>\n",
       "      <td>NaN</td>\n",
       "      <td>NaN</td>\n",
       "      <td>1490.0</td>\n",
       "      <td>135.0</td>\n",
       "      <td>NaN</td>\n",
       "      <td>931.0</td>\n",
       "      <td>51</td>\n",
       "      <td>Population</td>\n",
       "    </tr>\n",
       "    <tr>\n",
       "      <th>4</th>\n",
       "      <td>11/26/1998</td>\n",
       "      <td>NaN</td>\n",
       "      <td>bonrip</td>\n",
       "      <td>3B</td>\n",
       "      <td>414D2B4B58</td>\n",
       "      <td>NaN</td>\n",
       "      <td>NaN</td>\n",
       "      <td>NaN</td>\n",
       "      <td>1710.0</td>\n",
       "      <td>150.0</td>\n",
       "      <td>NaN</td>\n",
       "      <td>933.0</td>\n",
       "      <td>51</td>\n",
       "      <td>Population</td>\n",
       "    </tr>\n",
       "  </tbody>\n",
       "</table>\n",
       "</div>"
      ],
      "text/plain": [
       "         date time    grid trap       l_ear r_ear  sex  age  weight  hindft  \\\n",
       "0  11/26/1998  NaN  bonrip   1A  414D096A08   NaN  NaN  NaN  1370.0   160.0   \n",
       "1  11/26/1998  NaN  bonrip   2C  414D320671   NaN    M  NaN  1430.0     NaN   \n",
       "2  11/26/1998  NaN  bonrip   2D  414D103E3A   NaN    M  NaN  1430.0     NaN   \n",
       "3  11/26/1998  NaN  bonrip   2E  414D262D43   NaN  NaN  NaN  1490.0   135.0   \n",
       "4  11/26/1998  NaN  bonrip   3B  414D2B4B58   NaN  NaN  NaN  1710.0   150.0   \n",
       "\n",
       "  notes  b_key  session_id       study  \n",
       "0   NaN  917.0          51  Population  \n",
       "1   NaN  936.0          51  Population  \n",
       "2   NaN  921.0          51  Population  \n",
       "3   NaN  931.0          51  Population  \n",
       "4   NaN  933.0          51  Population  "
      ]
     },
     "execution_count": 5,
     "metadata": {},
     "output_type": "execute_result"
    }
   ],
   "source": [
    "hares.head()"
   ]
  },
  {
   "cell_type": "markdown",
   "id": "f5b27338-728b-42d8-85ec-59b2ff734c18",
   "metadata": {},
   "source": [
    "1. What are the dimensions of the dataframe and what are the data types of the columns? Do the data types match what you would expect from each column?\n",
    "2. Are there any columns that have a significant number of NA values?\n",
    "3. What are the minimum and maximum values for the weight and hind feet measurements?\n",
    "4. What are the unique values for some of the categorical columns?\n",
    "5. An explroatory question about the data frame you come up with!"
   ]
  },
  {
   "cell_type": "code",
   "execution_count": 6,
   "id": "86a8ee6e-538e-41d2-a571-0edf9ced4281",
   "metadata": {
    "tags": []
   },
   "outputs": [
    {
     "data": {
      "text/plain": [
       "(3380, 14)"
      ]
     },
     "execution_count": 6,
     "metadata": {},
     "output_type": "execute_result"
    }
   ],
   "source": [
    "hares.shape"
   ]
  },
  {
   "cell_type": "code",
   "execution_count": 10,
   "id": "f3437239-2863-4df7-ba6f-73b5a839d170",
   "metadata": {
    "tags": []
   },
   "outputs": [
    {
     "name": "stdout",
     "output_type": "stream",
     "text": [
      "<class 'pandas.core.frame.DataFrame'>\n",
      "RangeIndex: 3380 entries, 0 to 3379\n",
      "Data columns (total 14 columns):\n",
      " #   Column      Non-Null Count  Dtype  \n",
      "---  ------      --------------  -----  \n",
      " 0   date        3380 non-null   object \n",
      " 1   time        264 non-null    object \n",
      " 2   grid        3380 non-null   object \n",
      " 3   trap        3368 non-null   object \n",
      " 4   l_ear       3332 non-null   object \n",
      " 5   r_ear       3211 non-null   object \n",
      " 6   sex         3028 non-null   object \n",
      " 7   age         1269 non-null   object \n",
      " 8   weight      2845 non-null   float64\n",
      " 9   hindft      1633 non-null   float64\n",
      " 10  notes       243 non-null    object \n",
      " 11  b_key       3333 non-null   float64\n",
      " 12  session_id  3380 non-null   int64  \n",
      " 13  study       3217 non-null   object \n",
      "dtypes: float64(3), int64(1), object(10)\n",
      "memory usage: 369.8+ KB\n"
     ]
    }
   ],
   "source": [
    "hares.info()"
   ]
  },
  {
   "cell_type": "code",
   "execution_count": 12,
   "id": "c476860e-c820-41c3-a45d-b8ffc7b8a592",
   "metadata": {
    "tags": []
   },
   "outputs": [
    {
     "data": {
      "text/plain": [
       "date          3380\n",
       "time          3380\n",
       "grid          3380\n",
       "trap          3380\n",
       "l_ear         3380\n",
       "r_ear         3380\n",
       "sex           3380\n",
       "age           3380\n",
       "weight        3380\n",
       "hindft        3380\n",
       "notes         3380\n",
       "b_key         3380\n",
       "session_id    3380\n",
       "study         3380\n",
       "dtype: int64"
      ]
     },
     "execution_count": 12,
     "metadata": {},
     "output_type": "execute_result"
    }
   ],
   "source": [
    "hares.isna().count()"
   ]
  },
  {
   "cell_type": "markdown",
   "id": "ce493792-2ac5-4398-b877-49187dc930da",
   "metadata": {},
   "source": [
    "# 4. Detecting messy values"
   ]
  },
  {
   "cell_type": "markdown",
   "id": "f674e35a-5604-4d12-8aad-fb6bf865e366",
   "metadata": {},
   "source": [
    "| Syntax      |  Description| \n",
    "| ----------- | ----------- |\n",
    "| m      | male       |\n",
    "| f   | female       |"
   ]
  },
  {
   "cell_type": "markdown",
   "id": "661eb761-ac12-4d9b-8620-7562b3967c3f",
   "metadata": {},
   "source": [
    "The purpose of the drop NA paramenter is to "
   ]
  },
  {
   "cell_type": "markdown",
   "id": "3000224c-e0ad-45d9-b843-ae7246887c4b",
   "metadata": {},
   "source": [
    "# 5. Brainstorm"
   ]
  },
  {
   "cell_type": "markdown",
   "id": "4e0fe4c0-4a38-48c2-a6fe-b16d564e09ab",
   "metadata": {},
   "source": [
    "# 6. Clean values\n",
    "\n",
    "Create a new column called sex_simple using the `numpy.select()` function so that\n",
    "‘F’, ‘f’, and ‘f_’ in the sex column get assigned to ‘female’,\n",
    "‘M’, ‘m’, and ‘m_’ get assigned to ‘male’, and\n",
    "anything else gets assigned np.nan\n",
    "Check the counts of unique values (including NAs) in the new `sex_simple column`."
   ]
  },
  {
   "cell_type": "code",
   "execution_count": 15,
   "id": "f7483ba7-d147-4d19-a610-9c8fa4688359",
   "metadata": {
    "tags": []
   },
   "outputs": [],
   "source": [
    "import numpy as np "
   ]
  },
  {
   "cell_type": "code",
   "execution_count": 14,
   "id": "57bef805-07f6-483a-aac5-210f32ce1a36",
   "metadata": {
    "tags": []
   },
   "outputs": [
    {
     "data": {
      "text/plain": [
       "array([nan, 'M', 'F', '?', 'F?', 'M?', 'pf', 'm', 'f', 'f?', 'm?', 'f ',\n",
       "       'm '], dtype=object)"
      ]
     },
     "execution_count": 14,
     "metadata": {},
     "output_type": "execute_result"
    }
   ],
   "source": [
    "hares.sex.unique()"
   ]
  },
  {
   "cell_type": "code",
   "execution_count": 16,
   "id": "3058c3c2-548f-49f0-8aa8-147326d9c6e8",
   "metadata": {
    "tags": []
   },
   "outputs": [
    {
     "data": {
      "text/plain": [
       "0       NaN\n",
       "1         M\n",
       "2         M\n",
       "3       NaN\n",
       "4       NaN\n",
       "       ... \n",
       "3375    NaN\n",
       "3376    NaN\n",
       "3377    NaN\n",
       "3378    NaN\n",
       "3379      M\n",
       "Name: sex, Length: 3380, dtype: object"
      ]
     },
     "execution_count": 16,
     "metadata": {},
     "output_type": "execute_result"
    }
   ],
   "source": [
    "# assign x as hares.sex \n",
    "\n",
    "x = hares.sex\n",
    "x"
   ]
  },
  {
   "cell_type": "code",
   "execution_count": 49,
   "id": "72496ef5-0792-4373-96c2-9c1895c0599b",
   "metadata": {
    "tags": []
   },
   "outputs": [],
   "source": [
    "condlist = [x.isin(['F','f','f_']), x.isin(['M','m','m_'])] \n",
    "outputlist = ['female', 'male']\n",
    "\n",
    "hares['sex_simple'] = np.select(condlist, outputlist, default = np.nan)"
   ]
  },
  {
   "cell_type": "code",
   "execution_count": 52,
   "id": "5f2d03bd-5cbe-4f1b-95be-cc8dc8539b3c",
   "metadata": {
    "tags": []
   },
   "outputs": [
    {
     "data": {
      "text/plain": [
       "(3380,)"
      ]
     },
     "execution_count": 52,
     "metadata": {},
     "output_type": "execute_result"
    }
   ],
   "source": [
    "hares['sex_simple'].shape"
   ]
  },
  {
   "cell_type": "code",
   "execution_count": 46,
   "id": "dd2b94ae-c5cb-4ca8-a0b1-84f238e9a756",
   "metadata": {
    "tags": []
   },
   "outputs": [
    {
     "data": {
      "text/plain": [
       "<bound method IndexOpsMixin.value_counts of 0  0        nan\n",
       "   1       male\n",
       "   2       male\n",
       "   3        nan\n",
       "   4        nan\n",
       "           ... \n",
       "2  3375     nan\n",
       "   3376     nan\n",
       "   3377     nan\n",
       "   3378     nan\n",
       "   3379     nan\n",
       "Length: 10140, dtype: object>"
      ]
     },
     "execution_count": 46,
     "metadata": {},
     "output_type": "execute_result"
    }
   ],
   "source": [
    "pd.DataFrame(column).stack().value_counts"
   ]
  },
  {
   "cell_type": "code",
   "execution_count": 39,
   "id": "005b9fff-9ced-4a90-8df0-4a7f6fe11521",
   "metadata": {
    "tags": []
   },
   "outputs": [
    {
     "data": {
      "text/plain": [
       "0  0        nan\n",
       "   1       male\n",
       "   2       male\n",
       "   3        nan\n",
       "   4        nan\n",
       "           ... \n",
       "2  3375     nan\n",
       "   3376     nan\n",
       "   3377     nan\n",
       "   3378     nan\n",
       "   3379     nan\n",
       "Length: 10140, dtype: object"
      ]
     },
     "execution_count": 39,
     "metadata": {},
     "output_type": "execute_result"
    }
   ],
   "source": [
    "pd.DataFrame(column).stack()"
   ]
  },
  {
   "cell_type": "code",
   "execution_count": null,
   "id": "f5ebe91e-221d-4a5a-ba78-3b9d4fcd4b77",
   "metadata": {},
   "outputs": [],
   "source": []
  },
  {
   "cell_type": "markdown",
   "id": "2c6f5d96-e6b9-4a3a-bcf6-fd15a438b31e",
   "metadata": {},
   "source": [
    "# 7. Calculate mean weight\n",
    "\n",
    "Use groupby() to calculate the mean weight by sex using the new column.\n",
    "Write a full sentence explaining the results you obtained. Don’t forget to include units."
   ]
  },
  {
   "cell_type": "code",
   "execution_count": 51,
   "id": "b7f89845-e71b-497a-9f7b-1760c5c658c3",
   "metadata": {
    "tags": []
   },
   "outputs": [
    {
     "data": {
      "text/plain": [
       "sex_simple\n",
       "female    1366.920372\n",
       "male      1352.145553\n",
       "nan       1176.511111\n",
       "Name: weight, dtype: float64"
      ]
     },
     "execution_count": 51,
     "metadata": {},
     "output_type": "execute_result"
    }
   ],
   "source": [
    "hares.groupby('sex_simple')['weight'].mean()"
   ]
  },
  {
   "cell_type": "code",
   "execution_count": null,
   "id": "c2c44e58-a732-4bdb-ae40-b0e2e66f9c35",
   "metadata": {},
   "outputs": [],
   "source": []
  }
 ],
 "metadata": {
  "kernelspec": {
   "display_name": "EDS220",
   "language": "python",
   "name": "eds220-env"
  },
  "language_info": {
   "codemirror_mode": {
    "name": "ipython",
    "version": 3
   },
   "file_extension": ".py",
   "mimetype": "text/x-python",
   "name": "python",
   "nbconvert_exporter": "python",
   "pygments_lexer": "ipython3",
   "version": "3.11.4"
  }
 },
 "nbformat": 4,
 "nbformat_minor": 5
}
